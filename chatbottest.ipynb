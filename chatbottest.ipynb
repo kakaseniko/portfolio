{
 "cells": [
  {
   "cell_type": "code",
   "execution_count": 74,
   "metadata": {},
   "outputs": [],
   "source": [
    "from langchain_cohere import ChatCohere\n",
    "from langchain.llms import Cohere\n",
    "import os\n",
    "from langchain.docstore.document import Document\n",
    "from pdfminer.high_level import extract_text\n",
    "from langchain.text_splitter import RecursiveCharacterTextSplitter\n",
    "from langchain_cohere import CohereEmbeddings\n",
    "from langchain.vectorstores import FAISS\n",
    "from langchain.chains import RetrievalQA\n",
    "from dotenv import load_dotenv"
   ]
  },
  {
   "cell_type": "code",
   "execution_count": 75,
   "metadata": {},
   "outputs": [],
   "source": [
    "load_dotenv()\n",
    "\n",
    "COHERE_API_KEY = os.getenv(\"COHERE_API_KEY\")\n",
    "llm = ChatCohere(cohere_api_key=COHERE_API_KEY)\n",
    "llm2 = Cohere(cohere_api_key=COHERE_API_KEY)"
   ]
  },
  {
   "cell_type": "code",
   "execution_count": 10,
   "metadata": {},
   "outputs": [
    {
     "name": "stderr",
     "output_type": "stream",
     "text": [
      "/tmp/ipykernel_6039/2087365494.py:1: LangChainDeprecationWarning: The method `BaseLLM.__call__` was deprecated in langchain-core 0.1.7 and will be removed in 1.0. Use invoke instead.\n",
      "  answer = llm2(prompt=\"What is the capital of France?\")\n"
     ]
    },
    {
     "name": "stdout",
     "output_type": "stream",
     "text": [
      " The capital of France is Paris. Paris is France's largest city and a major global center for art, culture, fashion, and cuisine. It is renowned for its iconic landmarks, such as the Eiffel Tower, the Louvre Museum, and the Arc de Triomphe, as well as for its picturesque streets and neighborhoods, including the Champs-Élysées and Montmartre. \n",
      "\n",
      "As the capital, Paris serves as the political and administrative center of France. It is home to important government buildings and institutions, including the Palais Garnier, the seat of the French National Assembly, and the Palais Bourbon, which houses the French Senate. \n",
      "\n",
      "Beyond its administrative and cultural importance, Paris is a major hub for commerce, tourism, and education. It hosts the headquarters of many multinational corporations and is a popular destination for tourists from around the world. \n",
      "\n",
      "The city is also home to several prestigious universities and colleges, such as the Sorbonne and the École Normale Supérieure, making it an important center for higher education and research. \n",
      "\n",
      "In summary, Paris is not only the cultural and artistic heartbeat of France but also serves as the capital, hosting the nation's central government institutions, facilitating economic activities, and contributing immensely to France's reputation as a global center of\n"
     ]
    }
   ],
   "source": [
    "answer = llm2(prompt=\"What is the capital of France?\")\n",
    "print(answer)"
   ]
  },
  {
   "cell_type": "code",
   "execution_count": 66,
   "metadata": {},
   "outputs": [],
   "source": [
    "pdf_text = extract_text(\"./images/Resume.pdf\")\n",
    "\n",
    "text_splitter = RecursiveCharacterTextSplitter(chunk_size=1000, chunk_overlap=100)\n",
    "chunks = text_splitter.split_text(pdf_text)\n",
    "\n",
    "cohere_embeddings = CohereEmbeddings(model= \"embed-english-v3.0\",cohere_api_key=COHERE_API_KEY)\n",
    "\n",
    "documents = [Document(page_content=chunk) for chunk in chunks]\n",
    "\n",
    "vector_store = FAISS.from_documents(documents, cohere_embeddings)\n"
   ]
  },
  {
   "cell_type": "code",
   "execution_count": 76,
   "metadata": {},
   "outputs": [],
   "source": [
    "retriever = vector_store.as_retriever()\n",
    "qa_chain = RetrievalQA.from_chain_type(\n",
    "    llm=llm,\n",
    "    retriever=retriever,\n",
    "    chain_type=\"stuff\"\n",
    ")"
   ]
  },
  {
   "cell_type": "code",
   "execution_count": 78,
   "metadata": {},
   "outputs": [
    {
     "name": "stdout",
     "output_type": "stream",
     "text": [
      "Eniko Kakas has worked at the following places:\n",
      "\n",
      "- Ecogoggle BV, Eindhoven, as a Data Science Intern from February 2024 to July 2024.\n",
      "- Calima Solutions SL, Las Palmas de Gran Canaria, as a Software Developer Intern from August 2022 to January 2023.\n",
      "- ISSD Fontys ICT, Eindhoven, as a Student Assistant from October 2021 to February 2024.\n"
     ]
    }
   ],
   "source": [
    "query = \"Where did she work before?\"\n",
    "response = qa_chain.run(query)\n",
    "print(response)"
   ]
  }
 ],
 "metadata": {
  "kernelspec": {
   "display_name": "kakas",
   "language": "python",
   "name": "python3"
  },
  "language_info": {
   "codemirror_mode": {
    "name": "ipython",
    "version": 3
   },
   "file_extension": ".py",
   "mimetype": "text/x-python",
   "name": "python",
   "nbconvert_exporter": "python",
   "pygments_lexer": "ipython3",
   "version": "3.12.4"
  }
 },
 "nbformat": 4,
 "nbformat_minor": 2
}
